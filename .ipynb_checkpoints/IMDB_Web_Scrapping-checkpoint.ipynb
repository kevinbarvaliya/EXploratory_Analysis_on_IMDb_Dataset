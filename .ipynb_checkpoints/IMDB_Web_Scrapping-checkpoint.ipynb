{
 "cells": [
  {
   "cell_type": "code",
   "execution_count": 14,
   "id": "381cabb5",
   "metadata": {},
   "outputs": [],
   "source": [
    "import pandas as pd\n",
    "import requests\n",
    "from bs4 import BeautifulSoup  #HTML parsing library\n",
    "from flask import Response"
   ]
  },
  {
   "cell_type": "code",
   "execution_count": 17,
   "id": "7cc238e5",
   "metadata": {},
   "outputs": [],
   "source": [
    "#list variables to store scrapped data\n",
    "\n",
    "Movie_name = []\n",
    "Genre = []\n",
    "Year = []\n",
    "Time = []\n",
    "Rating = []\n",
    "Votes = []\n",
    "Metascore = []\n",
    "Rank = []\n",
    "Gross = []\n",
    "Director = []\n",
    "Actors = []\n",
    "Short_desc = []"
   ]
  },
  {
   "cell_type": "code",
   "execution_count": 18,
   "id": "7d4f3ca6",
   "metadata": {},
   "outputs": [],
   "source": [
    "#HTML pages  from where we will fatch movies data\n",
    "pages= [\"1\",\"101\",'201','301','401','501','601','701','801','901']"
   ]
  },
  {
   "cell_type": "code",
   "execution_count": 19,
   "id": "91805293",
   "metadata": {},
   "outputs": [],
   "source": [
    "for page in pages:\n",
    "    url = \"https://www.imdb.com/search/title/?groups=top_1000&sort=user_rating,desc&count=100&start=\" + page + \"&ref_=adv_nxt\"\n",
    "    respose = requests.get(url) #Making a request to a web page\n",
    "    soup = BeautifulSoup(respose.content, \"html.parser\") #pulling data from IMDB web-page\n",
    "    movie_data = soup.findAll(\"div\", attrs = {'class':'lister-item mode-advanced'}) #Scrapping data that are under specific class\n",
    "    \n",
    "    for row in movie_data: #This loop will fatch movie data one by one and append it into list.\n",
    "        Movie_name.append(row.h3.a.text)\n",
    "        Genre.append(row.p.find('span', class_ = 'genre').text[1:])\n",
    "        Year.append(row.h3.find('span', class_ = 'lister-item-year text-muted unbold').text[-5:-1])\n",
    "        Time.append(row.p.find('span', class_ = 'runtime').text[:-4])\n",
    "        Rating.append(row.strong.text)\n",
    "\n",
    "        val = row.findAll(\"span\", attrs = {'name':'nv'})\n",
    "        Votes.append(val[0].text.replace(\",\",\"\"))\n",
    "        Gross.append(val[1].text[1:-1] if len(val)>1 else \"\")    \n",
    "\n",
    "        Metascore.append(row.find('span', class_ = 'metascore').text.strip() if row.find('span', class_ = 'metascore') else \"\" )\n",
    "\n",
    "        Director.append(row.findAll('a', attrs={'class':''})[13].text)\n",
    "    \n",
    "\n",
    "    "
   ]
  },
  {
   "cell_type": "code",
   "execution_count": 20,
   "id": "7f5a1bf8",
   "metadata": {},
   "outputs": [],
   "source": [
    "#creating DataFrame from all list variables in which we stored movie information.\n",
    "df = pd.DataFrame({\"Movie_name\" : Movie_name,\n",
    "              \"Genre\" : Genre,\n",
    "              \"Year\" : Year,\n",
    "              \"Time\" : Time,\n",
    "              \"Rating\" : Rating,\n",
    "              \"Votes\" : Votes,\n",
    "              \"Gross(Million_$)\" : Gross,\n",
    "              \"Metascore\" : Metascore,\n",
    "              \"Director\" : Director})"
   ]
  },
  {
   "cell_type": "code",
   "execution_count": 21,
   "id": "06204123",
   "metadata": {},
   "outputs": [
    {
     "data": {
      "text/plain": [
       "Movie_name          object\n",
       "Genre               object\n",
       "Year                object\n",
       "Time                object\n",
       "Rating              object\n",
       "Votes               object\n",
       "Gross(Million_$)    object\n",
       "Metascore           object\n",
       "Director            object\n",
       "dtype: object"
      ]
     },
     "execution_count": 21,
     "metadata": {},
     "output_type": "execute_result"
    }
   ],
   "source": [
    "#cheking data types \n",
    "df.dtypes"
   ]
  },
  {
   "cell_type": "code",
   "execution_count": 22,
   "id": "b57df257",
   "metadata": {},
   "outputs": [],
   "source": [
    "#casting data from object to numeric\n",
    "df[\"Year\"] = pd.to_numeric(df[\"Year\"])\n",
    "df[\"Time\"] = pd.to_numeric(df[\"Time\"])\n",
    "df[\"Rating\"] = pd.to_numeric(df[\"Rating\"])\n",
    "df[\"Votes\"] = pd.to_numeric(df[\"Votes\"])\n",
    "df[\"Metascore\"] = pd.to_numeric(df[\"Metascore\"])\n",
    "df[\"Gross(Million_$)\"] = pd.to_numeric(df[\"Gross(Million_$)\"])\n"
   ]
  },
  {
   "cell_type": "code",
   "execution_count": 23,
   "id": "b59d050d",
   "metadata": {},
   "outputs": [
    {
     "data": {
      "text/plain": [
       "Movie_name           object\n",
       "Genre                object\n",
       "Year                  int64\n",
       "Time                  int64\n",
       "Rating              float64\n",
       "Votes                 int64\n",
       "Gross(Million_$)    float64\n",
       "Metascore           float64\n",
       "Director             object\n",
       "dtype: object"
      ]
     },
     "execution_count": 23,
     "metadata": {},
     "output_type": "execute_result"
    }
   ],
   "source": [
    "df.dtypes"
   ]
  },
  {
   "cell_type": "code",
   "execution_count": 24,
   "id": "38a6544a",
   "metadata": {},
   "outputs": [
    {
     "data": {
      "text/plain": [
       "Movie_name            0\n",
       "Genre                 0\n",
       "Year                  0\n",
       "Time                  0\n",
       "Rating                0\n",
       "Votes                 0\n",
       "Gross(Million_$)    154\n",
       "Metascore           164\n",
       "Director              0\n",
       "dtype: int64"
      ]
     },
     "execution_count": 24,
     "metadata": {},
     "output_type": "execute_result"
    }
   ],
   "source": [
    "df.isnull().sum()"
   ]
  },
  {
   "cell_type": "code",
   "execution_count": 26,
   "id": "c1fa1e23",
   "metadata": {},
   "outputs": [],
   "source": [
    "#Exporting all fatched data into CSV file\n",
    "df.to_csv(\"Imdb_clean.csv\")"
   ]
  }
 ],
 "metadata": {
  "kernelspec": {
   "display_name": "Python 3",
   "language": "python",
   "name": "python3"
  },
  "language_info": {
   "codemirror_mode": {
    "name": "ipython",
    "version": 3
   },
   "file_extension": ".py",
   "mimetype": "text/x-python",
   "name": "python",
   "nbconvert_exporter": "python",
   "pygments_lexer": "ipython3",
   "version": "3.8.8"
  }
 },
 "nbformat": 4,
 "nbformat_minor": 5
}
